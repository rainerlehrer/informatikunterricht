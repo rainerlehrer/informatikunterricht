{
  "cells": [
    {
      "cell_type": "markdown",
      "metadata": {},
      "source": [
        "# Aufgabe 1\n",
        "Schreiben Sie folgendes Programm ab und führen Sie es aus:\n",
        "```python\n",
        "print(\"Was machst programmiere.\")\n",
        "```\n",
        "\n",
        "**Abgabe ins Textfeld:** Was steht im Ausgabefenster? Was bewirkt `\\n`?\n",
        "\n",
        "## Neue Konzepte und Begriffe\n",
        "\n",
        "`print(Text)`\n",
        "Der Befehl `print(\"Hallo163\")` bewirkt, dass der Computer im Ausgabefenster den Text `Hallo163` ausgibt und dann im Ausgabefenster in die nächste Zeile springt. Der Text, der ausgegeben werden soll, muss zwischen geraden Anführungszeichen stehen.\n",
        "\n",
        "`\\n`\n",
        "Innerhalb von Texten (und nur dort) bewirkt die Zeichenfolge `\\n` einen Zeilenumbruch im Ausgabefenster."
      ]
    },
    {
      "cell_type": "code",
      "execution_count": null,
      "metadata": {},
      "outputs": [],
      "source": [
        "# Aufgabe 1 Code\n",
        "print(\"Was machst programmiere.\")"
      ]
    },
    {
      "cell_type": "markdown",
      "metadata": {},
      "source": [
        "# Aufgabe 2\n",
        "Schreiben Sie folgendes Programm ab und führen Sie es aus:\n",
        "```python\n",
        "print(\"Ich programmiere! Ich programmiere!\")\n",
        "print(\"Computer sind sehr gut darin, uns unnötigen Aufwand zu ersparen.\")\n",
        "```\n",
        "\n",
        "## Erklärung\n",
        "Computer verstehen, wenn man sie auffordert, etwas zu wiederholen. Wir können den Computer daher damit beauftragen, einen Text mehrfach zu schreiben."
      ]
    },
    {
      "cell_type": "code",
      "execution_count": null,
      "metadata": {},
      "outputs": [],
      "source": [
        "# Aufgabe 2 Code - Original\n",
        "print(\"Ich programmiere! Ich programmiere!\")\n",
        "print(\"Computer sind sehr gut darin, uns unnötigen Aufwand zu ersparen.\")"
      ]
    },
    {
      "cell_type": "markdown",
      "metadata": {},
      "source": [
        "## Aufgabe 2 - Variation mit Schleife\n",
        "Ändern und ergänzen Sie den folgenden Code so, dass dieselbe Ausgabe wie vorhin entsteht, aber mit einer Schleife:"
      ]
    },
    {
      "cell_type": "code",
      "execution_count": null,
      "metadata": {},
      "outputs": [],
      "source": [
        "# Aufgabe 2 Code - Mit Schleife\n",
        "for _ in range(2):\n",
        "    print(\"Ich programmiere!\", end=\" \")\n",
        "print()  # Zeilenumbruch\n",
        "print(\"Computer sind sehr gut darin, uns unnötigen Aufwand zu ersparen.\")"
      ]
    }
  ],
  "metadata": {
    "kernelspec": {
      "display_name": "Python 3",
      "language": "python",
      "name": "python3"
    },
    "language_info": {
      "name": "python",
      "version": "3.x"
    }
  },
  "nbformat": 4,
  "nbformat_minor": 5
}