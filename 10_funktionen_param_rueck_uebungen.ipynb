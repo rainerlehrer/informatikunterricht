{
  "cells": [
    {
      "cell_type": "markdown",
      "metadata": {},
      "source": [
        "# Übungen: Funktionen mit Parametern und Rückgabewerten\n",
        "\n",
        "In diesem Notebook übst du, eigene Funktionen mit Parametern und Rückgabewerten zu schreiben."
      ]
    },
    {
      "cell_type": "markdown",
      "metadata": {},
      "source": [
        "## Aufgabe 1: Quadrat berechnen\n",
        "Schreibe eine Funktion `quadrat(n)`, die das Quadrat einer Zahl zurückgibt.\n",
        "- Beispiel: `quadrat(5)` → `25`"
      ]
    },
    {
      "cell_type": "code",
      "metadata": {},
      "source": [
        "def quadrat(n):\n",
        "    return n ** 2\n",
        "\n",
        "print(quadrat(5))"
      ],
      "outputs": [],
      "execution_count": null
    },
    {
      "cell_type": "markdown",
      "metadata": {},
      "source": [
        "## Aufgabe 2: Maximum zweier Zahlen\n",
        "Schreibe eine Funktion `maximum(a, b)`, die die größere Zahl zurückgibt.\n",
        "- Beispiel: `maximum(7, 3)` → `7`"
      ]
    },
    {
      "cell_type": "code",
      "metadata": {},
      "source": [
        "def maximum(a, b):\n",
        "    if a > b:\n",
        "        return a\n",
        "    else:\n",
        "        return b\n",
        "\n",
        "print(maximum(7, 3))"
      ],
      "outputs": [],
      "execution_count": null
    },
    {
      "cell_type": "markdown",
      "metadata": {},
      "source": [
        "## Aufgabe 3: Durchschnitt berechnen\n",
        "Schreibe eine Funktion `durchschnitt(a, b, c)`, die den Durchschnitt von drei Zahlen zurückgibt.\n",
        "- Beispiel: `durchschnitt(4, 6, 8)` → `6.0`"
      ]
    },
    {
      "cell_type": "code",
      "metadata": {},
      "source": [
        "def durchschnitt(a, b, c):\n",
        "    return (a + b + c) / 3\n",
        "\n",
        "print(durchschnitt(4, 6, 8))"
      ],
      "outputs": [],
      "execution_count": null
    },
    {
      "cell_type": "markdown",
      "metadata": {},
      "source": [
        "## Aufgabe 4: Gerade oder ungerade\n",
        "Schreibe eine Funktion `ist_gerade(n)`, die `True` zurückgibt, wenn die Zahl gerade ist, sonst `False`.\n",
        "- Beispiel: `ist_gerade(4)` → `True`"
      ]
    },
    {
      "cell_type": "code",
      "metadata": {},
      "source": [
        "def ist_gerade(n):\n",
        "    return n % 2 == 0\n",
        "\n",
        "print(ist_gerade(4))\n",
        "print(ist_gerade(7))"
      ],
      "outputs": [],
      "execution_count": null
    },
    {
      "cell_type": "markdown",
      "metadata": {},
      "source": [
        "## Aufgabe 5: Umfang Rechteck\n",
        "Schreibe eine Funktion `umfang_rechteck(a, b)`, die den Umfang eines Rechtecks zurückgibt.\n",
        "- Beispiel: `umfang_rechteck(3, 7)` → `20`"
      ]
    },
    {
      "cell_type": "code",
      "metadata": {},
      "source": [
        "def umfang_rechteck(a, b):\n",
        "    return 2 * (a + b)\n",
        "\n",
        "print(umfang_rechteck(3, 7))"
      ],
      "outputs": [],
      "execution_count": null
    },
    {
      "cell_type": "markdown",
      "metadata": {},
      "source": [
        "## Zusatzaufgabe: BMI berechnen\n",
        "Schreibe eine Funktion `bmi(gewicht, groesse)`, die den Body-Mass-Index zurückgibt.\n",
        "Formel: `BMI = gewicht / (groesse ** 2)`\n",
        "- Beispiel: `bmi(70, 1.75)` → ca. `22.86`"
      ]
    },
    {
      "cell_type": "code",
      "metadata": {},
      "source": [
        "def bmi(gewicht, groesse):\n",
        "    return gewicht / (groesse ** 2)\n",
        "\n",
        "print(round(bmi(70, 1.75), 2))"
      ],
      "outputs": [],
      "execution_count": null
    }
  ],
  "metadata": {
    "kernelspec": {
      "display_name": "Python 3",
      "language": "python",
      "name": "python3"
    },
    "language_info": {
      "name": "python",
      "version": "3.x",
      "mimetype": "text/x-python",
      "codemirror_mode": {
        "name": "ipython",
        "version": 3
      },
      "pygments_lexer": "ipython3",
      "nbconvert_exporter": "python",
      "file_extension": ".py"
    }
  },
  "nbformat": 4,
  "nbformat_minor": 5
}