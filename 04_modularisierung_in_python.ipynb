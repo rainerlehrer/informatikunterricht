{
 "cells": [
  {
   "cell_type": "markdown",
   "id": "6035a56c",
   "metadata": {},
   "source": [
    "# 🧱 Modularisierung in Python – Einführung für Anfänger\n",
    "\n",
    "Modularisierung bedeutet, deinen Code in **kleinere, wiederverwendbare Bausteine** zu unterteilen. Das hilft dabei, Programme übersichtlicher, wartbarer und besser testbar zu machen.\n"
   ]
  },
  {
   "cell_type": "markdown",
   "id": "2bb6c2b3",
   "metadata": {},
   "source": [
    "## 🔹 Warum Modularisierung?\n",
    "\n",
    "- 🔄 Wiederverwendbarkeit: Einmal geschriebener Code kann mehrfach verwendet werden.\n",
    "- 🔍 Übersichtlichkeit: Jedes Modul hat eine klar definierte Aufgabe.\n",
    "- 🛠 Wartbarkeit: Fehler lassen sich schneller finden und beheben.\n",
    "- 🧪 Testbarkeit: Kleine Funktionen sind einfacher zu testen als ein grosser Blockcode."
   ]
  },
  {
   "cell_type": "markdown",
   "id": "f19566cc",
   "metadata": {},
   "source": [
    "## 🧩 Funktionen als Bausteine\n",
    "\n",
    "Der erste Schritt zur Modularisierung ist die Verwendung von **Funktionen**."
   ]
  },
  {
   "cell_type": "code",
   "execution_count": null,
   "id": "1effe2ea",
   "metadata": {},
   "outputs": [],
   "source": [
    "def begruessung(name):\n",
    "    print(f\"Hallo, {name}!\")\n",
    "\n",
    "# Verwendung\n",
    "begruessung(\"Anna\")"
   ]
  },
  {
   "cell_type": "markdown",
   "id": "197e08da",
   "metadata": {},
   "source": [
    "## 📁 Module in Python\n",
    "\n",
    "Ein **Modul** ist einfach eine `.py`-Datei, die Funktionen oder Variablen enthält. Du kannst eigene Module erstellen und in anderen Programmen verwenden."
   ]
  },
  {
   "cell_type": "code",
   "execution_count": null,
   "id": "d151f053",
   "metadata": {},
   "outputs": [],
   "source": [
    "# Beispiel: hilfsfunktionen.py\n",
    "def quadrat(x):\n",
    "    return x * x"
   ]
  },
  {
   "cell_type": "code",
   "execution_count": null,
   "id": "cd2d58d2",
   "metadata": {},
   "outputs": [],
   "source": [
    "# Verwendung in einer anderen Datei\n",
    "from hilfsfunktionen import quadrat\n",
    "\n",
    "print(quadrat(5))"
   ]
  },
  {
   "cell_type": "markdown",
   "id": "47496804",
   "metadata": {},
   "source": [
    "## 🧱 Paketstruktur\n",
    "\n",
    "Wenn du mehrere Module kombinierst, kannst du daraus ein **Paket** machen.\n",
    "Ein Paket ist einfach ein Ordner mit einer Datei `__init__.py` und weiteren Modulen darin."
   ]
  },
  {
   "cell_type": "markdown",
   "id": "dd60874b",
   "metadata": {},
   "source": [
    "## 📌 Zusammenfassung\n",
    "\n",
    "- Funktionen helfen, Code logisch zu trennen.\n",
    "- Module (Dateien) ermöglichen Wiederverwendung über mehrere Programme hinweg.\n",
    "- Pakete strukturieren große Projekte in logisch gruppierte Einheiten.\n",
    "\n",
    "➡️ **Modularisierung = bessere Struktur, weniger Chaos.**"
   ]
  }
 ],
 "metadata": {
  "kernelspec": {
   "display_name": "Python 3 (ipykernel)",
   "language": "python",
   "name": "python3"
  },
  "language_info": {
   "codemirror_mode": {
    "name": "ipython",
    "version": 3
   },
   "file_extension": ".py",
   "mimetype": "text/x-python",
   "name": "python",
   "nbconvert_exporter": "python",
   "pygments_lexer": "ipython3",
   "version": "3.10.16"
  }
 },
 "nbformat": 4,
 "nbformat_minor": 5
}
