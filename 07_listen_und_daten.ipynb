{
  "cells": [
    {
      "cell_type": "markdown",
      "metadata": {},
      "source": [
        "# Einführung in Arrays in Python\n",
        "\n",
        "In diesem Notebook lernst du die Grundlagen von Arrays in Python kennen. Wir beginnen mit Listen, danach schauen wir uns `numpy`-Arrays an."
      ]
    },
    {
      "cell_type": "markdown",
      "metadata": {},
      "source": [
        "## 1. Listen als einfache Arrays\n",
        "In Python können wir Listen verwenden, um einfache Arrays darzustellen."
      ]
    },
    {
      "cell_type": "code",
      "metadata": {},
      "source": [
        "# Eine Liste erstellen\n",
        "zahlen = [1, 2, 3, 4, 5]\n",
        "print(\"Liste:\", zahlen)\n",
        "\n",
        "# Zugriff auf Elemente\n",
        "print(\"Erstes Element:\", zahlen[0])\n",
        "print(\"Letztes Element:\", zahlen[-1])"
      ],
      "outputs": [],
      "execution_count": null
    },
    {
      "cell_type": "markdown",
      "metadata": {},
      "source": [
        "## 2. NumPy-Arrays\n",
        "Für wissenschaftliches Rechnen ist das `numpy`-Paket sehr nützlich. Es bietet echte Arrays mit vielen praktischen Funktionen."
      ]
    },
    {
      "cell_type": "code",
      "metadata": {},
      "source": [
        "import numpy as np\n",
        "\n",
        "# Ein Array erstellen\n",
        "arr = np.array([1, 2, 3, 4, 5])\n",
        "print(\"Array:\", arr)\n",
        "print(\"Typ:\", type(arr))"
      ],
      "outputs": [],
      "execution_count": null
    },
    {
      "cell_type": "markdown",
      "metadata": {},
      "source": [
        "## 3. Indexierung und Slicing\n",
        "Wir können auf einzelne Elemente oder Teilbereiche des Arrays zugreifen."
      ]
    },
    {
      "cell_type": "code",
      "metadata": {},
      "source": [
        "print(\"Erstes Element:\", arr[0])\n",
        "print(\"Letzte zwei Elemente:\", arr[-2:])\n",
        "print(\"Jedes zweite Element:\", arr[::2])"
      ],
      "outputs": [],
      "execution_count": null
    },
    {
      "cell_type": "markdown",
      "metadata": {},
      "source": [
        "## 4. Mathematische Operationen\n",
        "NumPy-Arrays unterstützen vektorisiertes Rechnen – d.h. Operationen werden auf alle Elemente angewendet."
      ]
    },
    {
      "cell_type": "code",
      "metadata": {},
      "source": [
        "print(\"Array + 10:\", arr + 10)\n",
        "print(\"Array * 2:\", arr * 2)\n",
        "print(\"Quadrat der Elemente:\", arr ** 2)"
      ],
      "outputs": [],
      "execution_count": null
    },
    {
      "cell_type": "markdown",
      "metadata": {},
      "source": [
        "## 5. Mehrdimensionale Arrays\n",
        "NumPy kann auch Matrizen und mehrdimensionale Arrays verwalten."
      ]
    },
    {
      "cell_type": "code",
      "metadata": {},
      "source": [
        "matrix = np.array([[1, 2, 3], [4, 5, 6]])\n",
        "print(\"Matrix:\\n\", matrix)\n",
        "print(\"Form:\", matrix.shape)\n",
        "print(\"Element in Zeile 1, Spalte 2:\", matrix[0, 1])"
      ],
      "outputs": [],
      "execution_count": null
    },
    {
      "cell_type": "markdown",
      "metadata": {},
      "source": [
        "## 6. Übung\n",
        "1. Erstelle ein NumPy-Array mit den Zahlen von 0 bis 20.\n",
        "2. Gib alle geraden Zahlen aus.\n",
        "3. Multipliziere alle Werte mit 3.\n",
        "\n",
        "👉 Probiere es im nächsten Codefeld aus!"
      ]
    },
    {
      "cell_type": "code",
      "metadata": {},
      "source": [
        "# Dein Code hier\n",
        "import numpy as np\n",
        "\n",
        "# 1. Array erstellen\n",
        "arr = np.arange(0, 21)\n",
        "print(arr)\n",
        "\n",
        "# 2. Nur gerade Zahlen\n",
        "print(arr[arr % 2 == 0])\n",
        "\n",
        "# 3. Mit 3 multiplizieren\n",
        "print(arr * 3)"
      ],
      "outputs": [],
      "execution_count": null
    }
  ],
  "metadata": {
    "kernelspec": {
      "display_name": "Python 3",
      "language": "python",
      "name": "python3"
    },
    "language_info": {
      "name": "python",
      "version": "3.x",
      "mimetype": "text/x-python",
      "codemirror_mode": {
        "name": "ipython",
        "version": 3
      },
      "pygments_lexer": "ipython3",
      "nbconvert_exporter": "python",
      "file_extension": ".py"
    }
  },
  "nbformat": 4,
  "nbformat_minor": 5
}