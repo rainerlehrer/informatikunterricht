{
  "cells": [
    {
      "cell_type": "markdown",
      "metadata": {},
      "source": [
        "# Übungen zu Listen in Python\n",
        "\n",
        "Dieses Notebook enthält verschiedene Aufgaben zu **Listen**. Sie bauen auf der Theorie zu Arrays/Listen auf."
      ]
    },
    {
      "cell_type": "markdown",
      "metadata": {},
      "source": [
        "## Aufgabe 1: Erstellen und Ausgeben\n",
        "1. Erstelle eine Liste mit den Wochentagen.\n",
        "2. Gib den ersten und den letzten Tag der Woche aus."
      ]
    },
    {
      "cell_type": "code",
      "metadata": {},
      "source": [
        "# Lösung Aufgabe 1\n",
        "wochentage = [\"Montag\", \"Dienstag\", \"Mittwoch\", \"Donnerstag\", \"Freitag\", \"Samstag\", \"Sonntag\"]\n",
        "print(\"Erster Tag:\", wochentage[0])\n",
        "print(\"Letzter Tag:\", wochentage[-1])"
      ],
      "outputs": [],
      "execution_count": null
    },
    {
      "cell_type": "markdown",
      "metadata": {},
      "source": [
        "## Aufgabe 2: Elemente ändern\n",
        "1. Erstelle eine Liste mit den Zahlen `1, 2, 3, 4, 5`.\n",
        "2. Ersetze die Zahl `3` durch `99`.\n",
        "3. Gib die Liste aus."
      ]
    },
    {
      "cell_type": "code",
      "metadata": {},
      "source": [
        "# Lösung Aufgabe 2\n",
        "zahlen = [1, 2, 3, 4, 5]\n",
        "zahlen[2] = 99\n",
        "print(zahlen)"
      ],
      "outputs": [],
      "execution_count": null
    },
    {
      "cell_type": "markdown",
      "metadata": {},
      "source": [
        "## Aufgabe 3: Elemente hinzufügen und entfernen\n",
        "1. Erstelle eine leere Liste `tiere`.\n",
        "2. Füge die Tiere `Hund`, `Katze` und `Maus` hinzu.\n",
        "3. Entferne `Katze` aus der Liste.\n",
        "4. Gib die Liste aus."
      ]
    },
    {
      "cell_type": "code",
      "metadata": {},
      "source": [
        "# Lösung Aufgabe 3\n",
        "tiere = []\n",
        "tiere.append(\"Hund\")\n",
        "tiere.append(\"Katze\")\n",
        "tiere.append(\"Maus\")\n",
        "tiere.remove(\"Katze\")\n",
        "print(tiere)"
      ],
      "outputs": [],
      "execution_count": null
    },
    {
      "cell_type": "markdown",
      "metadata": {},
      "source": [
        "## Aufgabe 4: Slicing\n",
        "1. Erstelle eine Liste mit den Zahlen `10` bis `100` in Zehnerschritten.\n",
        "2. Gib die ersten drei Elemente aus.\n",
        "3. Gib die letzten zwei Elemente aus.\n",
        "4. Gib jedes zweite Element aus."
      ]
    },
    {
      "cell_type": "code",
      "metadata": {},
      "source": [
        "# Lösung Aufgabe 4\n",
        "zahlen = [10, 20, 30, 40, 50, 60, 70, 80, 90, 100]\n",
        "print(\"Erste drei:\", zahlen[:3])\n",
        "print(\"Letzte zwei:\", zahlen[-2:])\n",
        "print(\"Jedes zweite:\", zahlen[::2])"
      ],
      "outputs": [],
      "execution_count": null
    },
    {
      "cell_type": "markdown",
      "metadata": {},
      "source": [
        "## Aufgabe 5: Schleifen und Listen\n",
        "1. Erstelle eine Liste mit den Zahlen von `1` bis `10`.\n",
        "2. Gib jedes Element in einer `for`-Schleife aus.\n",
        "3. Erstelle eine neue Liste mit den Quadraten dieser Zahlen."
      ]
    },
    {
      "cell_type": "code",
      "metadata": {},
      "source": [
        "# Lösung Aufgabe 5\n",
        "zahlen = list(range(1, 11))\n",
        "for z in zahlen:\n",
        "    print(z)\n",
        "\n",
        "quadrate = [z ** 2 for z in zahlen]\n",
        "print(\"Quadrate:\", quadrate)"
      ],
      "outputs": [],
      "execution_count": null
    },
    {
      "cell_type": "markdown",
      "metadata": {},
      "source": [
        "## Zusatzaufgabe: Listen sortieren\n",
        "1. Erstelle eine Liste mit den Zahlen `[42, 7, 19, 3, 25]`.\n",
        "2. Sortiere die Liste aufsteigend und gib sie aus.\n",
        "3. Sortiere die Liste absteigend und gib sie aus."
      ]
    },
    {
      "cell_type": "code",
      "metadata": {},
      "source": [
        "# Lösung Zusatzaufgabe\n",
        "zahlen = [42, 7, 19, 3, 25]\n",
        "zahlen.sort()\n",
        "print(\"Aufsteigend:\", zahlen)\n",
        "zahlen.sort(reverse=True)\n",
        "print(\"Absteigend:\", zahlen)"
      ],
      "outputs": [],
      "execution_count": null
    }
  ],
  "metadata": {
    "kernelspec": {
      "display_name": "Python 3",
      "language": "python",
      "name": "python3"
    },
    "language_info": {
      "name": "python",
      "version": "3.x",
      "mimetype": "text/x-python",
      "codemirror_mode": {
        "name": "ipython",
        "version": 3
      },
      "pygments_lexer": "ipython3",
      "nbconvert_exporter": "python",
      "file_extension": ".py"
    }
  },
  "nbformat": 4,
  "nbformat_minor": 5
}