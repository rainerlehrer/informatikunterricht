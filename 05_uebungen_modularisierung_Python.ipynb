{
 "cells": [
  {
   "cell_type": "markdown",
   "id": "bb23ef44",
   "metadata": {},
   "source": [
    "# 🧪 Übungen zur Modularisierung in Python\n",
    "\n",
    "In diesen Aufgaben übst du, wie man Funktionen und Module in Python verwendet, um Programme zu strukturieren und zu organisieren. Ziel ist es, deinen Code übersichtlicher und wiederverwendbar zu machen."
   ]
  },
  {
   "cell_type": "markdown",
   "id": "3dfbf070",
   "metadata": {},
   "source": [
    "## 1️⃣ Begrüßung als Funktion\n",
    "\n",
    "📌 **Aufgabe:** Schreibe eine Funktion `begruesse(name)`, die eine personalisierte Begrüssung ausgibt."
   ]
  },
  {
   "cell_type": "code",
   "execution_count": null,
   "id": "3e742034",
   "metadata": {},
   "outputs": [],
   "source": [
    "def begruesse(name):\n",
    "    # Deine Begrüßung hier\n",
    "    pass\n",
    "\n",
    "# Testaufruf\n",
    "begruesse(\"Anna\")"
   ]
  },
  {
   "cell_type": "markdown",
   "id": "092197be",
   "metadata": {},
   "source": [
    "## 2️⃣ Quadratfunktion auslagern\n",
    "\n",
    "📌 **Aufgabe:** Erstelle eine Funktion `quadrat(x)`, die das Quadrat einer Zahl zurückgibt. Verwende sie für die Zahlen 1 bis 5."
   ]
  },
  {
   "cell_type": "code",
   "execution_count": null,
   "id": "ca0e7491",
   "metadata": {},
   "outputs": [],
   "source": [
    "def quadrat(x):\n",
    "    # Berechne das Quadrat\n",
    "    pass\n",
    "\n",
    "for i in range(1, 6):\n",
    "    print(f\"{i}² =\", quadrat(i))"
   ]
  },
  {
   "cell_type": "markdown",
   "id": "04f2e15b",
   "metadata": {},
   "source": [
    "## 3️⃣ Modul erstellen und importieren\n",
    "\n",
    "📌 **Aufgabe:** Lege eine Datei `mathetools.py` an und schreibe eine Funktion `verdoppeln(x)` hinein. Importiere sie hier und teste sie."
   ]
  },
  {
   "cell_type": "code",
   "execution_count": null,
   "id": "17c14f28",
   "metadata": {},
   "outputs": [],
   "source": [
    "# In mathetools.py:\n",
    "# def verdoppeln(x):\n",
    "#     return x * 2\n",
    "\n",
    "# Hier im Notebook:\n",
    "# from mathetools import verdoppeln\n",
    "# print(verdoppeln(10))"
   ]
  },
  {
   "cell_type": "markdown",
   "id": "ae4d770f",
   "metadata": {},
   "source": [
    "## 4️⃣ Mehrere Funktionen in einem Modul\n",
    "\n",
    "📌 **Aufgabe:** Erstelle ein Modul `texte.py` mit zwei Funktionen: `begruesse(name)` und `verabschiede(name)`. Importiere beide und verwende sie."
   ]
  },
  {
   "cell_type": "code",
   "execution_count": null,
   "id": "3b2b0e80",
   "metadata": {},
   "outputs": [],
   "source": [
    "# texte.py:\n",
    "# def begruesse(name):\n",
    "#     print(f\"Hallo, {name}!\")\n",
    "#\n",
    "# def verabschiede(name):\n",
    "#     print(f\"Tschüss, {name}!\")\n",
    "\n",
    "# Anwendung:\n",
    "# from texte import begruesse, verabschiede\n",
    "# begruesse(\"Tom\")\n",
    "# verabschiede(\"Tom\")"
   ]
  },
  {
   "cell_type": "markdown",
   "id": "051ff6bc",
   "metadata": {},
   "source": [
    "## 5️⃣ Paketstruktur planen (theoretisch)\n",
    "\n",
    "📌 **Aufgabe:** Überlege dir eine sinnvolle Paketstruktur für ein Projekt 'Taschenrechner'. Notiere, welche Module (Dateien) du anlegen würdest und was jeweils darin enthalten sein könnte."
   ]
  },
  {
   "cell_type": "code",
   "execution_count": null,
   "id": "5a896714",
   "metadata": {},
   "outputs": [],
   "source": [
    "# Beispielstruktur:\n",
    "# rechner/\n",
    "# ├── __init__.py\n",
    "# ├── grundfunktionen.py    # plus, minus, mal, geteilt\n",
    "# ├── wissenschaftlich.py   # wurzel, potenzen\n",
    "# └── io.py                 # Eingabe & Ausgabe\n",
    "\n",
    "# Deine eigene Struktur:"
   ]
  }
 ],
 "metadata": {
  "kernelspec": {
   "display_name": "Python 3 (ipykernel)",
   "language": "python",
   "name": "python3"
  },
  "language_info": {
   "codemirror_mode": {
    "name": "ipython",
    "version": 3
   },
   "file_extension": ".py",
   "mimetype": "text/x-python",
   "name": "python",
   "nbconvert_exporter": "python",
   "pygments_lexer": "ipython3",
   "version": "3.10.16"
  }
 },
 "nbformat": 4,
 "nbformat_minor": 5
}
