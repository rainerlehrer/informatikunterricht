{
 "cells": [
  {
   "cell_type": "markdown",
   "id": "1fd91d67",
   "metadata": {},
   "source": [
    "# 🔁 Übungen zu Schleifen in Python\n",
    "\n",
    "In diesem Notebook findest du mehrere kleine Übungen, um das Arbeiten mit `for`- und `while`-Schleifen zu üben.\n",
    "Versuche die Aufgaben selbst zu lösen. Viel Erfolg! 💪"
   ]
  },
  {
   "cell_type": "markdown",
   "id": "a628ecae",
   "metadata": {},
   "source": [
    "## 1️⃣ Zähle von 1 bis 10\n",
    "\n",
    "📌 **Aufgabe:** Schreibe eine `for`-Schleife, die die Zahlen von 1 bis 10 ausgibt."
   ]
  },
  {
   "cell_type": "code",
   "execution_count": null,
   "id": "0efd407b",
   "metadata": {},
   "outputs": [],
   "source": [
    "for i in range(1, 11):\n",
    "    # Deine Ausgabe hier\n",
    "    pass"
   ]
  },
  {
   "cell_type": "markdown",
   "id": "7c9e1033",
   "metadata": {},
   "source": [
    "## 2️⃣ Gib alle geraden Zahlen zwischen 1 und 20 aus\n",
    "\n",
    "📌 **Aufgabe:** Verwende eine Schleife und eine Bedingung, um nur die **geraden Zahlen** auszugeben."
   ]
  },
  {
   "cell_type": "code",
   "execution_count": null,
   "id": "638a58df",
   "metadata": {},
   "outputs": [],
   "source": [
    "for i in range(1, 21):\n",
    "    if i % 2 == 0:\n",
    "        # Deine Ausgabe hier\n",
    "        pass"
   ]
  },
  {
   "cell_type": "markdown",
   "id": "7a309037",
   "metadata": {},
   "source": [
    "## 3️⃣ Summiere alle Zahlen von 1 bis 100\n",
    "\n",
    "📌 **Aufgabe:** Berechne die Summe der Zahlen von 1 bis 100 mit einer Schleife."
   ]
  },
  {
   "cell_type": "code",
   "execution_count": null,
   "id": "cc6243f7",
   "metadata": {},
   "outputs": [],
   "source": [
    "summe = 0\n",
    "for i in range(1, 101):\n",
    "    # Hier summieren\n",
    "    pass\n",
    "\n",
    "print(\"Die Summe ist:\", summe)"
   ]
  }
 ],
 "metadata": {
  "kernelspec": {
   "display_name": "Python 3 (ipykernel)",
   "language": "python",
   "name": "python3"
  },
  "language_info": {
   "codemirror_mode": {
    "name": "ipython",
    "version": 3
   },
   "file_extension": ".py",
   "mimetype": "text/x-python",
   "name": "python",
   "nbconvert_exporter": "python",
   "pygments_lexer": "ipython3",
   "version": "3.10.16"
  }
 },
 "nbformat": 4,
 "nbformat_minor": 5
}
