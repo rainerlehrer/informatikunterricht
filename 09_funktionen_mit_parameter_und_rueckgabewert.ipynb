{
  "cells": [
    {
      "cell_type": "markdown",
      "metadata": {},
      "source": [
        "# Funktionen in Python\n",
        "\n",
        "In diesem Notebook lernst du, wie man eigene Funktionen in Python erstellt, Parameter übergibt und Rückgabewerte nutzt."
      ]
    },
    {
      "cell_type": "markdown",
      "metadata": {},
      "source": [
        "## 1. Eine einfache Funktion\n",
        "Eine Funktion wird mit `def` definiert."
      ]
    },
    {
      "cell_type": "code",
      "metadata": {},
      "source": [
        "def hallo():\n",
        "    print(\"Hallo, willkommen bei Python!\")\n",
        "\n",
        "hallo()"
      ],
      "outputs": [],
      "execution_count": null
    },
    {
      "cell_type": "markdown",
      "metadata": {},
      "source": [
        "## 2. Funktionen mit Parametern\n",
        "Parameter ermöglichen es uns, Werte an eine Funktion zu übergeben."
      ]
    },
    {
      "cell_type": "code",
      "metadata": {},
      "source": [
        "def begruessung(name):\n",
        "    print(f\"Hallo {name}, schön dich zu sehen!\")\n",
        "\n",
        "begruessung(\"Anna\")\n",
        "begruessung(\"Max\")"
      ],
      "outputs": [],
      "execution_count": null
    },
    {
      "cell_type": "markdown",
      "metadata": {},
      "source": [
        "## 3. Funktionen mit mehreren Parametern\n",
        "Wir können mehrere Parameter definieren."
      ]
    },
    {
      "cell_type": "code",
      "metadata": {},
      "source": [
        "def addiere(a, b):\n",
        "    print(\"Summe:\", a + b)\n",
        "\n",
        "addiere(3, 5)\n",
        "addiere(10, 20)"
      ],
      "outputs": [],
      "execution_count": null
    },
    {
      "cell_type": "markdown",
      "metadata": {},
      "source": [
        "## 4. Funktionen mit Rückgabewert\n",
        "Mit `return` können Funktionen Ergebnisse zurückgeben."
      ]
    },
    {
      "cell_type": "code",
      "metadata": {},
      "source": [
        "def multipliziere(a, b):\n",
        "    return a * b\n",
        "\n",
        "ergebnis = multipliziere(4, 6)\n",
        "print(\"Ergebnis:\", ergebnis)"
      ],
      "outputs": [],
      "execution_count": null
    },
    {
      "cell_type": "markdown",
      "metadata": {},
      "source": [
        "## 5. Mehrere Rückgabewerte\n",
        "Eine Funktion kann auch mehrere Werte zurückgeben."
      ]
    },
    {
      "cell_type": "code",
      "metadata": {},
      "source": [
        "def rechne(a, b):\n",
        "    summe = a + b\n",
        "    differenz = a - b\n",
        "    produkt = a * b\n",
        "    return summe, differenz, produkt\n",
        "\n",
        "s, d, p = rechne(8, 3)\n",
        "print(\"Summe:\", s)\n",
        "print(\"Differenz:\", d)\n",
        "print(\"Produkt:\", p)"
      ],
      "outputs": [],
      "execution_count": null
    },
    {
      "cell_type": "markdown",
      "metadata": {},
      "source": [
        "## 6. Übung\n",
        "1. Schreibe eine Funktion `quadrat(n)`, die das Quadrat einer Zahl zurückgibt.\n",
        "2. Schreibe eine Funktion `ist_gerade(n)`, die `True` zurückgibt, wenn eine Zahl gerade ist, sonst `False`.\n",
        "3. Schreibe eine Funktion `umfang_rechteck(a, b)`, die den Umfang eines Rechtecks berechnet und zurückgibt.\n",
        "\n",
        "👉 Probiere es im nächsten Codefeld aus!"
      ]
    },
    {
      "cell_type": "code",
      "metadata": {},
      "source": [
        "# Dein Code hier\n",
        "def quadrat(n):\n",
        "    return n ** 2\n",
        "\n",
        "def ist_gerade(n):\n",
        "    return n % 2 == 0\n",
        "\n",
        "def umfang_rechteck(a, b):\n",
        "    return 2 * (a + b)\n",
        "\n",
        "print(\"Quadrat von 5:\", quadrat(5))\n",
        "print(\"Ist 4 gerade?\", ist_gerade(4))\n",
        "print(\"Umfang 3x7:\", umfang_rechteck(3, 7))"
      ],
      "outputs": [],
      "execution_count": null
    }
  ],
  "metadata": {
    "kernelspec": {
      "display_name": "Python 3",
      "language": "python",
      "name": "python3"
    },
    "language_info": {
      "name": "python",
      "version": "3.x",
      "mimetype": "text/x-python",
      "codemirror_mode": {
        "name": "ipython",
        "version": 3
      },
      "pygments_lexer": "ipython3",
      "nbconvert_exporter": "python",
      "file_extension": ".py"
    }
  },
  "nbformat": 4,
  "nbformat_minor": 5
}