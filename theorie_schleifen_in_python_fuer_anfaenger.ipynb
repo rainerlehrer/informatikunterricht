{
 "cells": [
  {
   "cell_type": "markdown",
   "id": "14f7195d",
   "metadata": {},
   "source": [
    "# 🧠 Schleifen in Python – Einführung\n",
    "\n",
    "### 🔁 Warum braucht man Schleifen?\n",
    "Manchmal müssen wir denselben Code **mehrmals** ausführen. Statt ihn mehrmals zu schreiben, benutzen wir **Schleifen**."
   ]
  },
  {
   "cell_type": "markdown",
   "id": "bbcb6937",
   "metadata": {},
   "source": [
    "## 1️⃣ Die `for`-Schleife"
   ]
  },
  {
   "cell_type": "markdown",
   "id": "0d4c0b2c",
   "metadata": {},
   "source": [
    "### ✅ Beispiel: Zahlen von 1 bis 5 ausgeben"
   ]
  },
  {
   "cell_type": "code",
   "execution_count": null,
   "id": "f6ac8b61",
   "metadata": {},
   "outputs": [],
   "source": [
    "for i in range(1, 6):\n",
    "    print(i)"
   ]
  },
  {
   "cell_type": "markdown",
   "id": "883d4685",
   "metadata": {},
   "source": [
    "### 🧾 Erklärung:\n",
    "- `for` bedeutet: **\"Für jedes Element…\"**\n",
    "- `i` ist die Laufvariable – sie wird bei jedem Durchlauf verändert.\n",
    "- `range(1, 6)` erzeugt die Zahlen 1 bis 5.\n",
    "- `print(i)` gibt die aktuelle Zahl aus."
   ]
  },
  {
   "cell_type": "markdown",
   "id": "14069cf9",
   "metadata": {},
   "source": [
    "### 🔁 Noch ein Beispiel: Liste durchlaufen"
   ]
  },
  {
   "cell_type": "code",
   "execution_count": null,
   "id": "ae741f1a",
   "metadata": {},
   "outputs": [],
   "source": [
    "farben = [\"rot\", \"grün\", \"blau\"]\n",
    "\n",
    "for farbe in farben:\n",
    "    print(farbe)"
   ]
  },
  {
   "cell_type": "markdown",
   "id": "46671617",
   "metadata": {},
   "source": [
    "## 2️⃣ Die `while`-Schleife"
   ]
  },
  {
   "cell_type": "markdown",
   "id": "11fe87b5",
   "metadata": {},
   "source": [
    "### ✅ Beispiel: Zählen bis 5"
   ]
  },
  {
   "cell_type": "code",
   "execution_count": null,
   "id": "d927abbf",
   "metadata": {},
   "outputs": [],
   "source": [
    "zähler = 1\n",
    "\n",
    "while zähler <= 5:\n",
    "    print(zähler)\n",
    "    zähler += 1  # entspricht: zähler = zähler + 1"
   ]
  },
  {
   "cell_type": "markdown",
   "id": "b79e1316",
   "metadata": {},
   "source": [
    "### 🧾 Erklärung:\n",
    "- `while` bedeutet: **\"Solange …\"**\n",
    "- Die Schleife läuft, **solange** die Bedingung `zähler <= 5` **wahr** ist.\n",
    "- Am Ende jedes Durchlaufs wird der `zähler` um 1 erhöht."
   ]
  },
  {
   "cell_type": "markdown",
   "id": "07ef534a",
   "metadata": {},
   "source": [
    "## ⚠️ Achtung: Endlosschleife"
   ]
  },
  {
   "cell_type": "code",
   "execution_count": null,
   "id": "bbece091",
   "metadata": {},
   "outputs": [],
   "source": [
    "while True:\n",
    "    print(\"Diese Schleife endet nie!\")"
   ]
  },
  {
   "cell_type": "markdown",
   "id": "744d0794",
   "metadata": {},
   "source": [
    "## ✅ Übungsidee (zum Ausprobieren)\n",
    "\n",
    "### Aufgabe:\n",
    "Schreibe eine Schleife, die alle **geraden Zahlen von 2 bis 10** ausgibt."
   ]
  },
  {
   "cell_type": "code",
   "execution_count": null,
   "id": "9e4f3381",
   "metadata": {},
   "outputs": [],
   "source": [
    "# Dein Code hier:\n"
   ]
  }
 ],
 "metadata": {},
 "nbformat": 4,
 "nbformat_minor": 5
}
